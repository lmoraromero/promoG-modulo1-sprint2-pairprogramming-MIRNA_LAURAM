{
 "cells": [
  {
   "cell_type": "markdown",
   "metadata": {},
   "source": [
    "# Ejercicios Pair de Funciones"
   ]
  },
  {
   "cell_type": "markdown",
   "metadata": {},
   "source": [
    "1. Calcular el área de un círculo.\n",
    "    - Descripción: Crea una función llamada calcular_area_circulo que tome el radio como parámetro y devuelva el área del círculo."
   ]
  },
  {
   "cell_type": "code",
   "execution_count": 17,
   "metadata": {},
   "outputs": [
    {
     "name": "stdout",
     "output_type": "stream",
     "text": [
      "78.54\n"
     ]
    }
   ],
   "source": [
    "pi = 3.1416\n",
    "radio1 = 5\n",
    "\n",
    "area = round(pi * radio**2, 2)\n",
    "\n",
    "print(area)\n"
   ]
  },
  {
   "cell_type": "code",
   "execution_count": 18,
   "metadata": {},
   "outputs": [],
   "source": [
    "def calcular_area_circulo(radio):\n",
    "    pi = 3.1416\n",
    "    area = round(pi * radio**2, 2)\n",
    "    return area"
   ]
  },
  {
   "cell_type": "code",
   "execution_count": 19,
   "metadata": {},
   "outputs": [
    {
     "data": {
      "text/plain": [
       "78.54"
      ]
     },
     "execution_count": 19,
     "metadata": {},
     "output_type": "execute_result"
    }
   ],
   "source": [
    "radio1 = 5\n",
    "\n",
    "calcular_area_circulo(radio1)"
   ]
  },
  {
   "cell_type": "markdown",
   "metadata": {},
   "source": [
    "2. Contar la cantidad de caracteres en una cadena.\n",
    "    - Descripción: Crea una función llamada contar_caracteres que tome una cadena como parámetro y devuelva la cantidad de caracteres que contiene."
   ]
  },
  {
   "cell_type": "code",
   "execution_count": 20,
   "metadata": {},
   "outputs": [
    {
     "name": "stdout",
     "output_type": "stream",
     "text": [
      "24\n"
     ]
    }
   ],
   "source": [
    "frase = 'En un lugar de la Mancha'\n",
    "\n",
    "print(len(frase))"
   ]
  },
  {
   "cell_type": "code",
   "execution_count": 21,
   "metadata": {},
   "outputs": [],
   "source": [
    "def contar_caracteres(cadena):\n",
    "    contador = len(cadena)\n",
    "    return contador"
   ]
  },
  {
   "cell_type": "code",
   "execution_count": 22,
   "metadata": {},
   "outputs": [
    {
     "data": {
      "text/plain": [
       "24"
      ]
     },
     "execution_count": 22,
     "metadata": {},
     "output_type": "execute_result"
    }
   ],
   "source": [
    "frase = 'En un lugar de la Mancha'\n",
    "\n",
    "contar_caracteres(frase)"
   ]
  },
  {
   "cell_type": "markdown",
   "metadata": {},
   "source": [
    "3. Determinar si una cadena es un palíndromo.\n",
    "    - Descripción: Crea una función llamada es_palindromo que tome una cadena como parámetro y devuelva True si es un palíndromo, o False si no lo es"
   ]
  },
  {
   "cell_type": "code",
   "execution_count": 33,
   "metadata": {},
   "outputs": [
    {
     "name": "stdout",
     "output_type": "stream",
     "text": [
      "arroz al a zorra\n"
     ]
    }
   ],
   "source": [
    "frase2 = 'arroz a la zorra'\n",
    "\n",
    "palindromo = frase2[::-1]\n",
    "\n",
    "print(palindromo)"
   ]
  },
  {
   "cell_type": "code",
   "execution_count": 5,
   "metadata": {},
   "outputs": [],
   "source": [
    "def es_palindromo(cadena):\n",
    "    cadena = cadena.lower().replace(' ', '')\n",
    "    palindromo = cadena[::-1]\n",
    "    \n",
    "    if palindromo == cadena:\n",
    "        print(True)\n",
    "    else:\n",
    "        print(False)\n",
    "    return palindromo"
   ]
  },
  {
   "cell_type": "code",
   "execution_count": 6,
   "metadata": {},
   "outputs": [
    {
     "name": "stdout",
     "output_type": "stream",
     "text": [
      "True\n"
     ]
    },
    {
     "data": {
      "text/plain": [
       "'arrozalazorra'"
      ]
     },
     "execution_count": 6,
     "metadata": {},
     "output_type": "execute_result"
    }
   ],
   "source": [
    "frase2 = 'arroz a la zorra'\n",
    "\n",
    "es_palindromo(frase2)\n"
   ]
  },
  {
   "cell_type": "code",
   "execution_count": 7,
   "metadata": {},
   "outputs": [
    {
     "name": "stdout",
     "output_type": "stream",
     "text": [
      "False\n"
     ]
    },
    {
     "data": {
      "text/plain": [
       "'esarfanuseotse'"
      ]
     },
     "execution_count": 7,
     "metadata": {},
     "output_type": "execute_result"
    }
   ],
   "source": [
    "frase3 = 'esto es una frase'\n",
    "\n",
    "es_palindromo(frase3)\n"
   ]
  },
  {
   "cell_type": "markdown",
   "metadata": {},
   "source": [
    "4. Calcular el promedio de una lista de números.\n",
    "    - Descripción: Crea una función llamada calcular_promedio que tome una lista de números como parámetro y devuelva el promedio de todos sus elementos.\n"
   ]
  },
  {
   "cell_type": "code",
   "execution_count": 35,
   "metadata": {},
   "outputs": [
    {
     "name": "stdout",
     "output_type": "stream",
     "text": [
      "7.6\n"
     ]
    }
   ],
   "source": [
    "lista_num = [8, 6, 9, 10, 5]\n",
    "\n",
    "media = sum(lista_num)/len(lista_num)\n",
    "\n",
    "print(media)"
   ]
  },
  {
   "cell_type": "code",
   "execution_count": 36,
   "metadata": {},
   "outputs": [],
   "source": [
    "def calcular_promedio(lista):\n",
    "    media = sum(lista_num)/len(lista_num)\n",
    "    return  media"
   ]
  },
  {
   "cell_type": "code",
   "execution_count": 37,
   "metadata": {},
   "outputs": [
    {
     "data": {
      "text/plain": [
       "7.6"
      ]
     },
     "execution_count": 37,
     "metadata": {},
     "output_type": "execute_result"
    }
   ],
   "source": [
    "lista_num = [8, 6, 9, 10, 5]\n",
    "\n",
    "calcular_promedio(lista_num)"
   ]
  },
  {
   "cell_type": "markdown",
   "metadata": {},
   "source": [
    "5. Calcular el interés compuesto.\n",
    "    - Descripción: Crea una función llamada calcular_interes_compuesto que tome el capital inicial, la tasa de interés y el número de períodos como parámetros y devuelva el beneficio final después del interés compuesto."
   ]
  },
  {
   "cell_type": "code",
   "execution_count": null,
   "metadata": {},
   "outputs": [],
   "source": []
  },
  {
   "cell_type": "markdown",
   "metadata": {},
   "source": [
    "6. Validar si una palabra es un anagrama de otra.\n",
    "    - Descripción: Crea una función llamada es_anagrama que tome dos palabras como parámetros y devuelva True si una es un anagrama de la otra, o False si no lo es."
   ]
  },
  {
   "cell_type": "code",
   "execution_count": 42,
   "metadata": {},
   "outputs": [
    {
     "name": "stdout",
     "output_type": "stream",
     "text": [
      "['a', 'm', 'o', 'r']\n",
      "['a', 'm', 'o', 'r']\n",
      "True\n"
     ]
    }
   ],
   "source": [
    "anagram1 = 'amor'\n",
    "\n",
    "anagram2 = 'roma'\n",
    "\n",
    "lista_ana1 = list(anagrama1)\n",
    "lista_ana1.sort()\n",
    "print(lista_ana1)\n",
    "\n",
    "lista_ana2 = list(anagrama2)\n",
    "lista_ana2.sort()\n",
    "print(lista_ana2)\n",
    "\n",
    "if lista_ana1 == lista_ana2:\n",
    "    print(True)\n",
    "else:\n",
    "    print(False)\n"
   ]
  },
  {
   "cell_type": "code",
   "execution_count": 44,
   "metadata": {},
   "outputs": [],
   "source": [
    "def es_anagrama(anagrama1, anagrama2):\n",
    "    lista_ana1 = list(anagrama1)\n",
    "    lista_ana1.sort()\n",
    "\n",
    "    lista_ana2 = list(anagrama2)\n",
    "    lista_ana2.sort()\n",
    "    if lista_ana1 == lista_ana2:\n",
    "        print(True)\n",
    "    else:\n",
    "        print(False)\n",
    "    return \n"
   ]
  },
  {
   "cell_type": "code",
   "execution_count": 47,
   "metadata": {},
   "outputs": [
    {
     "name": "stdout",
     "output_type": "stream",
     "text": [
      "False\n"
     ]
    }
   ],
   "source": [
    "anagram1 = 'amor'\n",
    "\n",
    "anagram2 = 'rosa'\n",
    "\n",
    "es_anagrama(anagram1, anagram2)"
   ]
  },
  {
   "cell_type": "markdown",
   "metadata": {},
   "source": [
    "7. Validar si una cadena de texto es un isograma.\n",
    "    - Descripción: Crea una función llamada es_isograma que tome una cadena de texto como parámetro y devuelva True si es un isograma. En caso contrario, devuelve False.\n",
    "    - ¿Qué es un isograma? Una palabra que no contiene letras repetidas."
   ]
  },
  {
   "cell_type": "code",
   "execution_count": 9,
   "metadata": {},
   "outputs": [
    {
     "name": "stdout",
     "output_type": "stream",
     "text": [
      "¿es un isograma? True\n",
      "¿es un isograma? True\n",
      "¿es un isograma? True\n",
      "¿es un isograma? True\n",
      "¿es un isograma? True\n",
      "¿es un isograma? True\n",
      "¿es un isograma? True\n",
      "¿es un isograma? True\n",
      "¿es un isograma? True\n",
      "¿es un isograma? True\n"
     ]
    }
   ],
   "source": [
    "isograma = 'murcielago'\n",
    "\n",
    "letras_isograma = set()\n",
    "\n",
    "for letra in isograma:\n",
    "    if letra in letras_isograma:\n",
    "        print('¿Es un isograma? False')\n",
    "    \n",
    "    else:\n",
    "        letras_isograma.add(letra)\n",
    "        print('¿es un isograma? True')\n",
    "\n",
    "\n"
   ]
  },
  {
   "cell_type": "code",
   "execution_count": 10,
   "metadata": {},
   "outputs": [],
   "source": [
    "letras_isograma = set()\n",
    "\n",
    "def es_isograma(isograma):\n",
    "\n",
    "    for letra in isograma:\n",
    "        if letra in letras_isograma:\n",
    "            return False\n",
    "    \n",
    "        else:\n",
    "            letras_isograma.add(letra)\n",
    "    return True"
   ]
  },
  {
   "cell_type": "code",
   "execution_count": 11,
   "metadata": {},
   "outputs": [
    {
     "data": {
      "text/plain": [
       "True"
      ]
     },
     "execution_count": 11,
     "metadata": {},
     "output_type": "execute_result"
    }
   ],
   "source": [
    "isograma = 'murcielago'\n",
    "\n",
    "es_isograma(isograma)"
   ]
  },
  {
   "cell_type": "markdown",
   "metadata": {},
   "source": [
    "8. Concatenar múltiples cadenas de texto\n",
    "    - Descripción: Crea una función llamada concatenar_cadenas que tome una cantidad variable de cadenas de texto como argumentos y devuelva una única cadena que contenga la concatenación de todas las cadenas ingresadas."
   ]
  },
  {
   "cell_type": "code",
   "execution_count": 54,
   "metadata": {},
   "outputs": [
    {
     "name": "stdout",
     "output_type": "stream",
     "text": [
      "['Un lugar ', 'de la Mancha']\n"
     ]
    }
   ],
   "source": [
    "cad1 = 'Un lugar'\n",
    "cad2 = 'de la Mancha'\n",
    "\n",
    "lista_cad = [cad1, cad2]\n",
    "(',').join(lista_cad)\n",
    "\n",
    "print(lista_cad)"
   ]
  },
  {
   "cell_type": "code",
   "execution_count": 63,
   "metadata": {},
   "outputs": [
    {
     "name": "stdout",
     "output_type": "stream",
     "text": [
      "Un lugar de la Mancha\n"
     ]
    }
   ],
   "source": [
    "cad1 = 'Un lugar' #tiene que tener una solución el espacio\n",
    "cad2 = 'de la Mancha'\n",
    "\n",
    "lista_cad = cad1 + ' ' + cad2\n",
    "\n",
    "\n",
    "print(lista_cad)\n"
   ]
  },
  {
   "cell_type": "code",
   "execution_count": 65,
   "metadata": {},
   "outputs": [],
   "source": [
    "def concatenar_cadenas(cadena1, cadena2):\n",
    "    lista_cad = cadena1 + ' ' + cadena2\n",
    "    return lista_cad"
   ]
  },
  {
   "cell_type": "code",
   "execution_count": 66,
   "metadata": {},
   "outputs": [
    {
     "data": {
      "text/plain": [
       "'Un lugar de la Mancha'"
      ]
     },
     "execution_count": 66,
     "metadata": {},
     "output_type": "execute_result"
    }
   ],
   "source": [
    "cad1 = 'Un lugar' #tiene que tener una solución el espacio\n",
    "cad2 = 'de la Mancha'\n",
    "\n",
    "concatenar_cadenas(cad1, cad2)"
   ]
  },
  {
   "cell_type": "markdown",
   "metadata": {},
   "source": [
    "9. Crear un diccionario con información de una persona.\n",
    "    - Descripción: Crea una función llamada crear_persona que tome como argumentos clave-valor los datos de una persona, como nombre, edad, ciudad, etc., y devuelva un diccionario con toda la información ingresada."
   ]
  },
  {
   "cell_type": "code",
   "execution_count": null,
   "metadata": {},
   "outputs": [],
   "source": [
    "#creo que se usa kwargs\n",
    "\n"
   ]
  },
  {
   "cell_type": "markdown",
   "metadata": {},
   "source": [
    "10. Encontrar el número que falta en una lista ordenada de números consecutivos.\n",
    "    - Descripción: Crea una función llamada encontrar_numero_faltante que tome una lista de números consecutivos (del 1 al N, sin repetir) con un número faltante y devuelva ese número faltante."
   ]
  },
  {
   "cell_type": "code",
   "execution_count": null,
   "metadata": {},
   "outputs": [],
   "source": [
    "lista_numeros = [1, 2, 3, 4, 6, 7, 8, 9]\n"
   ]
  },
  {
   "cell_type": "code",
   "execution_count": null,
   "metadata": {},
   "outputs": [],
   "source": [
    "# vamos a compararlo por la suma de los números. Si tenemos una lista que va del 1 al 9 esperamos que el resultado de la suma\n",
    "# de todos los números sea igual en cualquier lista o secuencia que vayan esos números. \n",
    "\n",
    "lista_numeros = [1, 2, 3, 4, 6, 7, 8, 9]\n",
    "\n",
    "suma_num_totales = sum(range(1, len(lista_numeros) + 2))\n",
    "\n",
    "suma_lista_numeros = sum(lista_numeros)\n",
    "\n",
    "numero_falta = suma_num_totales - suma_lista_numeros"
   ]
  },
  {
   "cell_type": "code",
   "execution_count": 1,
   "metadata": {},
   "outputs": [],
   "source": [
    "def encontrar_numero_faltante(numeros_lista):\n",
    "    \n",
    "    suma_num_totales = sum(range(1, len(numeros_lista) + 2))\n",
    "\n",
    "    suma_lista_numeros = sum(numeros_lista)\n",
    "\n",
    "    numero_falta = suma_num_totales - suma_lista_numeros\n",
    "\n",
    "    return numero_falta"
   ]
  },
  {
   "cell_type": "code",
   "execution_count": 2,
   "metadata": {},
   "outputs": [
    {
     "name": "stdout",
     "output_type": "stream",
     "text": [
      "5\n"
     ]
    }
   ],
   "source": [
    "lista_numeros = [1, 2, 3, 4, 6, 7, 8, 9]\n",
    "\n",
    "print(encontrar_numero_faltante(lista_numeros))"
   ]
  },
  {
   "cell_type": "markdown",
   "metadata": {},
   "source": [
    "11. Encontrar el elemento duplicado en una lista de números.\n",
    "    - Descripción: Crea una función llamada encontrar_duplicado que tome una lista de números enteros y devuelva el elemento que está duplicado en la lista."
   ]
  },
  {
   "cell_type": "code",
   "execution_count": 8,
   "metadata": {},
   "outputs": [],
   "source": [
    "lista_num1 = [1, 2, 3, 4, 4, 5]"
   ]
  },
  {
   "cell_type": "code",
   "execution_count": 11,
   "metadata": {},
   "outputs": [
    {
     "name": "stdout",
     "output_type": "stream",
     "text": [
      "4\n",
      "[1, 2, 3, 4, 5]\n"
     ]
    }
   ],
   "source": [
    "lista_num2 = []\n",
    "\n",
    "for num in lista_num1:\n",
    "    if num not in lista_num2:\n",
    "        lista_num2.append(num)\n",
    "    \n",
    "    elif num in lista_num2:\n",
    "        print(num)\n",
    "\n",
    "#hemos creado una nueva lista. Vamos a meter cada uno de los\n",
    "#números en la nueva lista. Anidamos if y de ahí si el numero\n",
    "#no se encuentra en la segunda lista lo imprime\n"
   ]
  },
  {
   "cell_type": "code",
   "execution_count": 13,
   "metadata": {},
   "outputs": [],
   "source": [
    "def encontrar_duplicado(lista):\n",
    "    lista_num2 = []\n",
    "\n",
    "    for num in lista:\n",
    "        if num not in lista_num2:\n",
    "            lista_num2.append(num)\n",
    "        \n",
    "        elif num in lista_num2:\n",
    "            print(f'El número repetido es {num}')\n",
    "            "
   ]
  },
  {
   "cell_type": "code",
   "execution_count": 14,
   "metadata": {},
   "outputs": [
    {
     "name": "stdout",
     "output_type": "stream",
     "text": [
      "El número repetido es 4\n"
     ]
    }
   ],
   "source": [
    "lista_num1 = [1, 2, 3, 4, 4, 5]\n",
    "\n",
    "encontrar_duplicado(lista_num1)"
   ]
  }
 ],
 "metadata": {
  "kernelspec": {
   "display_name": "base",
   "language": "python",
   "name": "python3"
  },
  "language_info": {
   "codemirror_mode": {
    "name": "ipython",
    "version": 3
   },
   "file_extension": ".py",
   "mimetype": "text/x-python",
   "name": "python",
   "nbconvert_exporter": "python",
   "pygments_lexer": "ipython3",
   "version": "3.9.7"
  }
 },
 "nbformat": 4,
 "nbformat_minor": 2
}
