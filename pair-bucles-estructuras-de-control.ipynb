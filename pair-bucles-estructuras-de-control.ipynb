{
 "cells": [
  {
   "cell_type": "markdown",
   "metadata": {},
   "source": [
    "# Ejericios bucles for"
   ]
  },
  {
   "cell_type": "markdown",
   "metadata": {},
   "source": [
    "1. Imprimir los números del 1 al 5 utilizando un bucle for\n",
    "    - Descripción: Utiliza un bucle for para imprimir los números del 1 al 5 (incluido) en orden ascendente."
   ]
  },
  {
   "cell_type": "code",
   "execution_count": 1,
   "metadata": {},
   "outputs": [
    {
     "name": "stdout",
     "output_type": "stream",
     "text": [
      "1\n",
      "2\n",
      "3\n",
      "4\n",
      "5\n"
     ]
    }
   ],
   "source": [
    "for num in range(1,6):\n",
    "    print(num)"
   ]
  },
  {
   "cell_type": "markdown",
   "metadata": {},
   "source": [
    "2. Calcular la suma de los primeros 10 números naturales utilizando un bucle for\n",
    "    - Descripción: Utiliza un bucle for para calcular la suma de los primeros 10 números naturales (1 + 2 + 3 + ... + 10)."
   ]
  },
  {
   "cell_type": "code",
   "execution_count": 3,
   "metadata": {},
   "outputs": [
    {
     "name": "stdout",
     "output_type": "stream",
     "text": [
      "1\n",
      "3\n",
      "5\n",
      "7\n",
      "9\n",
      "11\n",
      "13\n",
      "15\n",
      "17\n",
      "19\n"
     ]
    }
   ],
   "source": [
    "contador = 0\n",
    "\n",
    "for num in range(1,11):\n",
    "    num = num + contador\n",
    "    contador += 1\n",
    "    print(num)"
   ]
  },
  {
   "cell_type": "code",
   "execution_count": 4,
   "metadata": {},
   "outputs": [
    {
     "name": "stdout",
     "output_type": "stream",
     "text": [
      "0\n",
      "1\n",
      "3\n",
      "6\n",
      "10\n",
      "15\n",
      "21\n",
      "28\n",
      "36\n",
      "45\n",
      "55\n"
     ]
    }
   ],
   "source": [
    "numero5 = 0\n",
    "contador =0\n",
    "while numero5 >=0 and contador <=10:\n",
    "    numero5= numero5+contador\n",
    "    contador+=1\n",
    "    print(numero5)"
   ]
  },
  {
   "cell_type": "markdown",
   "metadata": {},
   "source": [
    "3. Calcular el producto de los elementos de una lista\n",
    "    - Descripción: Dada una lista de números, utiliza un bucle for para calcular el producto de todos los elementos."
   ]
  },
  {
   "cell_type": "code",
   "execution_count": 5,
   "metadata": {},
   "outputs": [
    {
     "name": "stdout",
     "output_type": "stream",
     "text": [
      "1\n",
      "2\n",
      "4\n",
      "8\n",
      "6\n"
     ]
    }
   ],
   "source": [
    "lista_num1 = [1, 2, 4, 8, 6]\n",
    "\n",
    "\n",
    "for num in lista_num1:\n",
    "    print(num)\n",
    "    lista_producto = []\n"
   ]
  },
  {
   "cell_type": "code",
   "execution_count": 7,
   "metadata": {},
   "outputs": [
    {
     "name": "stdout",
     "output_type": "stream",
     "text": [
      "1\n",
      "---\n",
      "2\n",
      "2\n",
      "---\n",
      "2\n",
      "4\n",
      "---\n",
      "2\n",
      "8\n",
      "---\n",
      "2\n",
      "6\n",
      "---\n",
      "2\n"
     ]
    }
   ],
   "source": [
    "indice = 0\n",
    "\n",
    "for num in lista_num1:\n",
    "    print(num)\n",
    "    print('---')\n",
    "    print(lista_num1[indice]*lista_num1[indice+1])\n"
   ]
  },
  {
   "cell_type": "code",
   "execution_count": null,
   "metadata": {},
   "outputs": [],
   "source": [
    "indice = 0\n",
    "\n",
    "for indice in range(len(notas)):\n",
    "    print(indice)\n",
    "    print('----')\n",
    "    notas[indice] = notas[indice] + 1\n",
    "    \n",
    "print(notas)"
   ]
  },
  {
   "cell_type": "markdown",
   "metadata": {},
   "source": [
    "4. Imprimir los caracteres de una cadena de texto\n",
    "    - Descripción: Dada una cadena de texto, utiliza un bucle for para imprimir cada carácter en una línea separada."
   ]
  },
  {
   "cell_type": "code",
   "execution_count": 8,
   "metadata": {},
   "outputs": [
    {
     "name": "stdout",
     "output_type": "stream",
     "text": [
      "E\n",
      "s\n",
      "t\n",
      "o\n",
      " \n",
      "e\n",
      "s\n",
      " \n",
      "u\n",
      "n\n",
      "a\n",
      " \n",
      "f\n",
      "r\n",
      "a\n",
      "s\n",
      "e\n"
     ]
    }
   ],
   "source": [
    "cadena = 'Esto es una frase'\n",
    "\n",
    "for letra in cadena:\n",
    "    print(letra)"
   ]
  },
  {
   "cell_type": "markdown",
   "metadata": {},
   "source": [
    "5. Imprimir los números pares del 1 al 100 utilizando un bucle for\n",
    "    - Descripción: Utiliza un bucle for para imprimir los números pares del 1 al 100 en orden ascendente."
   ]
  },
  {
   "cell_type": "code",
   "execution_count": 11,
   "metadata": {},
   "outputs": [
    {
     "name": "stdout",
     "output_type": "stream",
     "text": [
      "[2, 4, 6, 8, 10, 12, 14, 16, 18, 20, 22, 24, 26, 28, 30, 32, 34, 36, 38, 40, 42, 44, 46, 48, 50, 52, 54, 56, 58, 60, 62, 64, 66, 68, 70, 72, 74, 76, 78, 80, 82, 84, 86, 88, 90, 92, 94, 96, 98, 100]\n",
      "[2, 4, 6, 8, 10, 12, 14, 16, 18, 20, 22]\n"
     ]
    }
   ],
   "source": [
    "lista_pares = []\n",
    "\n",
    "for num in range(1, 101): \n",
    "    if num % 2 == 0:\n",
    "        lista_pares.append(num)\n",
    "\n",
    "print(lista_pares)\n",
    "print(lista_pares[0:11])"
   ]
  },
  {
   "cell_type": "markdown",
   "metadata": {},
   "source": [
    "6. Imprimir los números primos del 1 al 50 utilizando un bucle for\n",
    "    - Descripción: Utiliza un bucle for para imprimir los números primos del 1 al 50 en orden ascendente.\n",
    "    - NOTA: Según la Wikipedia, un número primo es un número natural mayor que 1 que no tiene divisores positivos más que 1 y él mismo"
   ]
  },
  {
   "cell_type": "code",
   "execution_count": 16,
   "metadata": {},
   "outputs": [
    {
     "name": "stdout",
     "output_type": "stream",
     "text": [
      "[1, 2, 3, 4, 5, 6, 7, 8, 9, 10, 11, 12, 13, 14, 15, 16, 17, 18, 19, 20, 21, 22, 23, 24, 25, 26, 27, 28, 29, 30, 31, 32, 33, 34, 35, 36, 37, 38, 39, 40, 41, 42, 43, 44, 45, 46, 47, 48, 49, 50]\n"
     ]
    }
   ],
   "source": [
    "lista_primos = []\n",
    "\n",
    "for num in range(1, 51):\n",
    "    if num >= 1 and num / 1 == num and num / num == 1:\n",
    "        lista_primos.append(num)\n",
    "\n",
    "\n",
    "print(lista_primos)"
   ]
  },
  {
   "cell_type": "markdown",
   "metadata": {},
   "source": [
    "7. Calcular el factorial de un número utilizando un bucle for\n",
    "    - Descripción: Dado un número entero positivo, calcula su factorial utilizando un bucle for"
   ]
  },
  {
   "cell_type": "code",
   "execution_count": 11,
   "metadata": {},
   "outputs": [
    {
     "name": "stdout",
     "output_type": "stream",
     "text": [
      "40320\n"
     ]
    }
   ],
   "source": [
    "# se crea un numero que calcular y la variable factorial para iniciar el cálculo\n",
    "numero = 8\n",
    "factorial = 1\n",
    "\n",
    "for num in range(1, numero + 1):  #en el bucle for va recorriendo cada número del rango, desde el 1 hasta el número ingresado\n",
    "    factorial *= num #se va multiplicando el número que saca en cada iteración al resultado anterior.\n",
    "\n",
    "print(resultado)"
   ]
  },
  {
   "cell_type": "markdown",
   "metadata": {},
   "source": [
    "8. Juego de adivinar palabras utilizando un bucle for\n",
    "    - Descripción: Crea un juego en el que el jugador debe adivinar una palabra secreta. El jugador tiene un número limitado de intentos y se le proporcionan pistas después de cada intento. Utiliza un bucle for para controlar los intentos del jugador."
   ]
  },
  {
   "cell_type": "code",
   "execution_count": 1,
   "metadata": {},
   "outputs": [
    {
     "name": "stdout",
     "output_type": "stream",
     "text": [
      "La palabra secreta tiene 4 letras.\n",
      "1 INTENTO\n",
      "¡Oh no!¡Vuelve a intentarlo!\n",
      "PISTA: La palabra empieza con al letra F\n",
      "2 INTENTO\n",
      "¡Enhorabuena! ¡La palabra secreta era FLOR\n"
     ]
    }
   ],
   "source": [
    "# vamos a definir nuestra palabra secreta. No queremos complicarnos y vamos a asignarla nosotras. También definimos nuestros intentos\n",
    "\n",
    "palabra_secreta = 'FLOR'\n",
    "vidas_totales = 5\n",
    "\n",
    "#vamos a dar una primera pista para que se sepa la longitud de la palabra elegida\n",
    "\n",
    "print(f'La palabra secreta tiene {len(palabra_secreta)} letras.')\n",
    "\n",
    "for vida in range(1, vidas_totales + 1): #que el bucle siga por todos los intentos que tenemos. Por eso utilizamos un range: desde 1er intento hasta el último\n",
    "    print(f'{vida} INTENTO')\n",
    "    pregunta = input('Introduce una palabra')\n",
    "\n",
    "    if pregunta.upper() == palabra_secreta:\n",
    "        print(f'¡Enhorabuena! ¡La palabra secreta era {palabra_secreta}')\n",
    "        break #ponemos un break por que actualmente no me acuerdo otra manera de hacerlo\n",
    "    else:\n",
    "        print(f'¡Oh no!¡Vuelve a intentarlo!')\n",
    "        vidas_totales -= 1\n",
    "        if vida < vidas_totales:\n",
    "            print(f'PISTA: La palabra empieza con al letra {palabra_secreta[0]}') #aquí añadimos pistas. una idea es que el índice pueda ir cambiando o que diga la última letra\n",
    "        else:\n",
    "            print(f'¡Ya no te quedan vidas! La palabar secreta era: {palabra_secreta}')"
   ]
  },
  {
   "cell_type": "code",
   "execution_count": 5,
   "metadata": {},
   "outputs": [
    {
     "name": "stdout",
     "output_type": "stream",
     "text": [
      "RANA\n"
     ]
    }
   ],
   "source": [
    "lista_secreta = ['RANA', 'PERRO', 'PATO', 'ANACONDA', 'ELEFANTE', 'PINGUINO']\n",
    "\n",
    "palabra_secreta = random.choice(lista_secreta)\n",
    "\n",
    "print(palabra_secreta)"
   ]
  },
  {
   "cell_type": "code",
   "execution_count": 13,
   "metadata": {},
   "outputs": [
    {
     "ename": "TypeError",
     "evalue": "list indices must be integers or slices, not tuple",
     "output_type": "error",
     "traceback": [
      "\u001b[0;31m---------------------------------------------------------------------------\u001b[0m",
      "\u001b[0;31mTypeError\u001b[0m                                 Traceback (most recent call last)",
      "\u001b[0;32m/tmp/ipykernel_17117/3711981654.py\u001b[0m in \u001b[0;36m<module>\u001b[0;34m\u001b[0m\n\u001b[1;32m      5\u001b[0m \u001b[0mvidas\u001b[0m \u001b[0;34m=\u001b[0m \u001b[0;36m5\u001b[0m\u001b[0;34m\u001b[0m\u001b[0;34m\u001b[0m\u001b[0m\n\u001b[1;32m      6\u001b[0m \u001b[0;34m\u001b[0m\u001b[0m\n\u001b[0;32m----> 7\u001b[0;31m \u001b[0;32mfor\u001b[0m \u001b[0mp\u001b[0m \u001b[0;32min\u001b[0m \u001b[0mrange\u001b[0m\u001b[0;34m(\u001b[0m\u001b[0mlista_secreta\u001b[0m\u001b[0;34m[\u001b[0m\u001b[0;36m0\u001b[0m\u001b[0;34m,\u001b[0m\u001b[0;36m7\u001b[0m\u001b[0;34m]\u001b[0m\u001b[0;34m)\u001b[0m\u001b[0;34m:\u001b[0m\u001b[0;34m\u001b[0m\u001b[0;34m\u001b[0m\u001b[0m\n\u001b[0m\u001b[1;32m      8\u001b[0m     \u001b[0mprint\u001b[0m\u001b[0;34m(\u001b[0m\u001b[0mp\u001b[0m\u001b[0;34m)\u001b[0m\u001b[0;34m\u001b[0m\u001b[0;34m\u001b[0m\u001b[0m\n\u001b[1;32m      9\u001b[0m \u001b[0;34m\u001b[0m\u001b[0m\n",
      "\u001b[0;31mTypeError\u001b[0m: list indices must be integers or slices, not tuple"
     ]
    }
   ],
   "source": [
    "lista_secreta = ['RANA', 'PERRO', 'PATO', 'ANACONDA', 'ELEFANTE', 'PINGUINO']\n",
    "\n",
    "palabra_secreta = random.choice(lista_secreta)\n",
    "\n",
    "vidas = 5\n",
    "\n",
    "for p in range(lista_secreta[0,7]):\n",
    "    print(p)\n",
    "        \n"
   ]
  },
  {
   "cell_type": "code",
   "execution_count": null,
   "metadata": {},
   "outputs": [],
   "source": [
    "  if usuario == palabra_secreta:\n",
    "        print(f'¡Has ganado!¡La palabra secreta era {}')"
   ]
  },
  {
   "cell_type": "markdown",
   "metadata": {},
   "source": [
    "# Ejercicios try ...except\n",
    "1. Realizar una búsqueda en una lista y capturar una excepción en caso de valor no encontrado.\n",
    "    - Descripción: Solicita al usuario una lista de nombres y un nombre para buscar en la lista. Intenta encontrar el nombre en la lista y utiliza las sentencias try y except para capturar la excepción en caso de que el nombre no sea encontrado."
   ]
  },
  {
   "cell_type": "code",
   "execution_count": 19,
   "metadata": {},
   "outputs": [],
   "source": [
    "lista_nom = []\n",
    "\n"
   ]
  },
  {
   "cell_type": "code",
   "execution_count": 21,
   "metadata": {},
   "outputs": [
    {
     "name": "stdout",
     "output_type": "stream",
     "text": [
      "Marta, María\n"
     ]
    },
    {
     "data": {
      "text/plain": [
       "['M', 'a', 'r', 't', 'a', ',', ' ', 'M', 'a', 'r', 'í', 'a']"
      ]
     },
     "execution_count": 21,
     "metadata": {},
     "output_type": "execute_result"
    }
   ],
   "source": [
    "print(lista_nom)\n"
   ]
  },
  {
   "cell_type": "code",
   "execution_count": 22,
   "metadata": {},
   "outputs": [
    {
     "name": "stdout",
     "output_type": "stream",
     "text": [
      "['Maria', 'Marta', 'Diana', 'Juana']\n"
     ]
    }
   ],
   "source": [
    "lista_nom = []\n",
    "\n",
    "for nom in range(1, 5):\n",
    "    nombre = input('Introduce un nombre').split(',')\n",
    "    lista_nom.append(nombre)\n",
    "\n",
    "print(lista_nom)\n",
    "print('----')\n",
    "\n",
    "input()"
   ]
  },
  {
   "cell_type": "code",
   "execution_count": 7,
   "metadata": {},
   "outputs": [
    {
     "name": "stdout",
     "output_type": "stream",
     "text": [
      "['Marta', ' Juana']\n",
      "Juana no se encuentra en la lista\n"
     ]
    }
   ],
   "source": [
    "#creamos un input donde pedimos al usuario que introduzca nombres separados por comas. Usamos split para que nos genera una lista\n",
    "\n",
    "nombres_usuario = input('Introduce una lista de nombres separados por comas: ').split(',')\n",
    "print(nombres_usuario)\n",
    "\n",
    "try:\n",
    "    nombres_buscar = input('Introduce el nombre que quieres buscar en la lista: ')\n",
    "\n",
    "    if nombres_buscar.strip() in nombres_usuario: #aquí usamos strip para quitar cualquier espacio que se introduzca erroneamente\n",
    "        print(f'El nombre {nombres_buscar} se encuentra en la lista')\n",
    "    else: \n",
    "        print(f'{nombres_buscar} no se encuentra en la lista')\n",
    "\n",
    "except ValueError:\n",
    "    print(f'Error.')\n",
    "\n",
    "#no sale bien. hay que comprobar bien el código"
   ]
  }
 ],
 "metadata": {
  "kernelspec": {
   "display_name": "base",
   "language": "python",
   "name": "python3"
  },
  "language_info": {
   "codemirror_mode": {
    "name": "ipython",
    "version": 3
   },
   "file_extension": ".py",
   "mimetype": "text/x-python",
   "name": "python",
   "nbconvert_exporter": "python",
   "pygments_lexer": "ipython3",
   "version": "3.9.7"
  }
 },
 "nbformat": 4,
 "nbformat_minor": 2
}
