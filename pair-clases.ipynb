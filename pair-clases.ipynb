{
 "cells": [
  {
   "cell_type": "markdown",
   "metadata": {},
   "source": [
    "1. En este ejercicio de pair programming, vamos a crear una clase para gestionar la información de los empleados de nuestra empresa. Siguiendo las indicaciones del jefe, necesitamos organizar los datos de cada empleado de manera más estructurada.\n",
    "    - La clase Empleados permite gestionar información relacionada con los empleados de una empresa, con las siguientes características:\n",
    "\n",
    "        1. Debes crear una clase llamada \"Empleados\" que tenga los siguientes atributos: nombre, apellidos, edad, posicion, año , vacaciones(cantidad de días de vacaciones que le quedan al empleado) y herramientas.\n",
    "        2. El constructor __init__ debe recibir estos atributos como parámetros y asignarlos a los respectivos atributos de la clase.\n",
    "        3. Los atributos representan la información personal y profesional de un empleado, como su nombre completo, edad, posición en la empresa, año de ingreso, días de vacaciones disponibles y una lista de herramientas que el empleado sabe utilizar."
   ]
  },
  {
   "cell_type": "code",
   "execution_count": 2,
   "metadata": {},
   "outputs": [],
   "source": [
    "class Empleados:\n",
    "    def __init__(self, nombre, apellidos, edad, posicion, año, vacaciones, herramientas):\n",
    "        self.nombre = nombre\n",
    "        self.apellidos = apellidos\n",
    "        self.edad = edad\n",
    "        self.posicion = posicion\n",
    "        self.año = año\n",
    "        self.vacaciones = vacaciones\n",
    "        self.herramientas = herramientas"
   ]
  },
  {
   "cell_type": "code",
   "execution_count": 10,
   "metadata": {},
   "outputs": [],
   "source": [
    "empleado1 = Empleados('Marta', 'López', 25, 'auxiliar administrativo', 2024, 30, ('Excel', 'Python', 'Autocad'))"
   ]
  },
  {
   "cell_type": "markdown",
   "metadata": {},
   "source": [
    "- Los métodos que debe recibir esta clase son:\n",
    "\n",
    "    - **Método descripcion**: Proporciona una descripción del empleado, incluyendo su nombre, posición en la empresa, y la cantidad de días de vacaciones que le quedan para el año actual. Los pasos para resolver el ejercicio del método descripcion son:\n",
    "         - Utilizar F-Strings: Utiliza f-strings para construir la descripción del empleado de manera legible y eficiente.\n",
    "        - Especificar los Atributos a Incluir: Determina cuáles de los atributos del empleado se deben incluir en la descripción. Los atributos necesarios son nombre, posicion, año, y vacaciones.\n",
    "        - Concatenar los Atributos: Usar f-strings para concatenar los atributos seleccionados y crear una descripción coherente."
   ]
  },
  {
   "cell_type": "code",
   "execution_count": 8,
   "metadata": {},
   "outputs": [],
   "source": [
    "class Empleados:\n",
    "    def __init__(self, nombre, apellidos, edad, posicion, año, vacaciones, herramientas):\n",
    "        self.nombre = nombre\n",
    "        self.apellidos = apellidos\n",
    "        self.edad = edad\n",
    "        self.posicion = posicion\n",
    "        self.año = año\n",
    "        self.vacaciones = vacaciones\n",
    "        self.herramientas = herramientas\n",
    "\n",
    "    def informacion(self):\n",
    "        return f'Nombre: {self.nombre}, Apellidos: {self.apellidos}, Edad: {self.edad}, Posición: {self.posicion}, Año: {self.año}, Vacaciones restantes: {self.vacaciones}, Herramientas que conoce: {self.herramientas}'"
   ]
  },
  {
   "cell_type": "code",
   "execution_count": 12,
   "metadata": {},
   "outputs": [],
   "source": [
    "empleado1 = Empleados('Marta', 'López', 25, 'auxiliar administrativo', 2024, 30, ('Python', 'Autocad'))"
   ]
  },
  {
   "cell_type": "code",
   "execution_count": 13,
   "metadata": {},
   "outputs": [
    {
     "data": {
      "text/plain": [
       "\"Nombre: Marta, Apellidos: López, Edad: 25, Posición: auxiliar administrativo, Año: 2024, Vacaciones restantes: 30, Herramientas que conoce: ('Excel', 'Python', 'Autocad')\""
      ]
     },
     "execution_count": 13,
     "metadata": {},
     "output_type": "execute_result"
    }
   ],
   "source": [
    "empleado1.informacion()"
   ]
  },
  {
   "cell_type": "markdown",
   "metadata": {},
   "source": [
    "- Método cambiando_posicion: Verifica las herramientas que el empleado tiene en su lista y devuelve un mensaje específico basado en las herramientas. Puede elogiar al empleado si tiene \"Python\" en su lista o sugerirle que deje de usar \"Excel\" y aprenda Python. Los pasos para resolver este ejercicio son:\n",
    "    - *Iterar a través de las Herramientas*: La función debe recorrer la lista de herramientas (self.herramientas) del empleado.\n",
    "    - *Evaluar Cada Herramienta*: Para cada herramienta en la lista, verifica si es igual a \"Python\" o \"Excel\" (en minúsculas)."
   ]
  },
  {
   "cell_type": "code",
   "execution_count": 28,
   "metadata": {},
   "outputs": [],
   "source": [
    "class Empleados:\n",
    "    def __init__(self, nombre, apellidos, edad, posicion, año, vacaciones, herramientas):\n",
    "        self.nombre = nombre\n",
    "        self.apellidos = apellidos\n",
    "        self.edad = edad\n",
    "        self.posicion = posicion\n",
    "        self.año = año\n",
    "        self.vacaciones = vacaciones\n",
    "        self.herramientas = herramientas\n",
    "\n",
    "    def informacion(self):\n",
    "        return f'Nombre: {self.nombre}, Apellidos: {self.apellidos}, Edad: {self.edad}, Posición: {self.posicion}, Año: {self.año}, Vacaciones restantes: {self.vacaciones}, Herramientas que conoce: {self.herramientas}'\n",
    "    \n",
    "    def verificar(self):\n",
    "        for herramienta in self.herramientas:\n",
    "            if herramienta == 'Python':\n",
    "                return f'¡Sabes Python! ¡Muy bien!'\n",
    "            #elif herramienta == 'Excel'\n",
    "            else:\n",
    "                return f'Deberías considerar cambiar a Python'\n",
    "                \n",
    "                \n"
   ]
  },
  {
   "cell_type": "code",
   "execution_count": 16,
   "metadata": {},
   "outputs": [
    {
     "name": "stdout",
     "output_type": "stream",
     "text": [
      "¡Sabes Python! ¡Muy bien!\n"
     ]
    }
   ],
   "source": [
    "lista_herramientas = ['Python', 'Autocad']\n",
    "\n",
    "for herramienta in lista_herramientas:\n",
    "    if herramienta == 'Python':\n",
    "        print(f'¡Sabes Python! ¡Muy bien!')\n",
    "    elif herramienta == 'Excel':\n",
    "        print(f'Deberías considerar cambiar a Python')"
   ]
  },
  {
   "cell_type": "code",
   "execution_count": 25,
   "metadata": {},
   "outputs": [],
   "source": [
    "empleado1 = Empleados('Marta', 'López', 25, 'auxiliar administrativo', 2023, 30, ('Python', 'Autocad'))"
   ]
  },
  {
   "cell_type": "code",
   "execution_count": 26,
   "metadata": {},
   "outputs": [
    {
     "data": {
      "text/plain": [
       "'¡Sabes Python! ¡Muy bien!'"
      ]
     },
     "execution_count": 26,
     "metadata": {},
     "output_type": "execute_result"
    }
   ],
   "source": [
    "empleado1.verificar()"
   ]
  },
  {
   "cell_type": "markdown",
   "metadata": {},
   "source": [
    "- Método calcular_antiguedad: Calcula la antigüedad del empleado en años y meses desde el año de ingreso hasta la fecha actual.\n",
    "    - Calcular la Antigüedad en Años y Meses: Utiliza el módulo datetime de Python para obtener el año actual y el mes actual.\n",
    "    - Generar el Mensaje de Antigüedad: Usa los valores calculados para años y meses de antigüedad para generar un mensaje descriptivo. Por ejemplo, \"Juan lleva 5 años y 3 meses en la empresa\"."
   ]
  },
  {
   "cell_type": "code",
   "execution_count": 29,
   "metadata": {},
   "outputs": [],
   "source": [
    "from datetime import datetime"
   ]
  },
  {
   "cell_type": "code",
   "execution_count": 30,
   "metadata": {},
   "outputs": [
    {
     "name": "stdout",
     "output_type": "stream",
     "text": [
      "2024-02-08 11:11:25.590412\n"
     ]
    }
   ],
   "source": [
    "#fecha actual\n",
    "print(datetime.now())"
   ]
  },
  {
   "cell_type": "code",
   "execution_count": null,
   "metadata": {},
   "outputs": [],
   "source": [
    "año_entrada = datetime.strptime()"
   ]
  },
  {
   "cell_type": "code",
   "execution_count": 33,
   "metadata": {},
   "outputs": [],
   "source": [
    "b = datetime.strptime(\"21-01-2024 18:46:00\", \"%d-%m-%Y %H:%M:%S\")\n",
    "a = datetime.strptime(\"21-02-2024 18:46:00\", \"%d-%m-%Y %H:%M:%S\")"
   ]
  },
  {
   "cell_type": "code",
   "execution_count": 34,
   "metadata": {},
   "outputs": [
    {
     "name": "stdout",
     "output_type": "stream",
     "text": [
      "31 days, 0:00:00\n"
     ]
    }
   ],
   "source": [
    "t = a - b\n",
    "print(t)"
   ]
  },
  {
   "cell_type": "markdown",
   "metadata": {},
   "source": [
    "- Método solicitar_aumento_vacaciones: Permite al empleado solicitar un aumento en la cantidad de días de vacaciones. Si la solicitud es válida (es decir, se solicitan días positivos), actualiza los días de vacaciones del empleado y devuelve un mensaje de confirmación. Recibirá un parámetro dias_solicitados, que corresponderá con el número de días de vacaciones que quiere solicitar.\n",
    "    - Validar los Días Solicitados: Utiliza una estructura de control para verificar si la cantidad de días solicitados (dias_solicitados) es mayor que cero. Esto garantiza que solo se procesen solicitudes de aumento válidas.\n",
    "    - Actualizar los Días de Vacaciones: Si la solicitud es válida, aumenta la cantidad de días de vacaciones del empleado (self.vacaciones) sumando la cantidad de días solicitados.\n",
    "    - Generar un Mensaje de Confirmación: Crea un mensaje informativo que confirme la aprobación de la solicitud y muestre la cantidad actualizada de días de vacaciones del empleado.\n",
    "    - Manejar Solicitudes No Válidas: Si la solicitud no es válida (es decir, dias_solicitados es menor o igual a cero), generar un mensaje de error que indique que la solicitud debe ser un número positivo."
   ]
  },
  {
   "cell_type": "code",
   "execution_count": 41,
   "metadata": {},
   "outputs": [],
   "source": [
    "class Empleados:\n",
    "    def __init__(self, nombre, apellidos, edad, posicion, año, herramientas, vacaciones = 0):\n",
    "        self.nombre = nombre\n",
    "        self.apellidos = apellidos\n",
    "        self.edad = edad\n",
    "        self.posicion = posicion\n",
    "        self.año = año\n",
    "        self.vacaciones = vacaciones\n",
    "        self.herramientas = herramientas\n",
    "\n",
    "    def informacion(self):\n",
    "        return f'Nombre: {self.nombre}, Apellidos: {self.apellidos}, Edad: {self.edad}, Posición: {self.posicion}, Año: {self.año}, Vacaciones restantes: {self.vacaciones}, Herramientas que conoce: {self.herramientas}'\n",
    "    \n",
    "    def verificar(self):\n",
    "        for herramienta in self.herramientas:\n",
    "            if herramienta == 'Python':\n",
    "                return f'¡Sabes Python! ¡Muy bien!'\n",
    "            #elif herramienta == 'Excel'\n",
    "            else:\n",
    "                return f'Deberías considerar cambiar a Python'\n",
    "    \n",
    "    def "
   ]
  },
  {
   "cell_type": "markdown",
   "metadata": {},
   "source": [
    "   - Validar los Días Solicitados: Utiliza una estructura de control para verificar si la cantidad de días solicitados (dias_solicitados) es mayor que cero. Esto garantiza que solo se procesen solicitudes de aumento válidas.\n",
    "      - Actualizar los Días de Vacaciones: Si la solicitud es válida, aumenta la cantidad de días de vacaciones del empleado (self.vacaciones) sumando la cantidad de días solicitados.\n",
    "      - Generar un Mensaje de Confirmación: Crea un mensaje informativo que confirme la aprobación de la solicitud y muestre la cantidad actualizada de días de vacaciones del empleado.\n",
    "      - Manejar Solicitudes No Válidas: Si la solicitud no es válida (es decir, dias_solicitados es menor o igual a cero), generar un mensaje de error que indique que la solicitud debe ser un número positivo."
   ]
  },
  {
   "cell_type": "code",
   "execution_count": 76,
   "metadata": {},
   "outputs": [],
   "source": [
    "\n",
    "vacaciones = 0\n",
    "vacaciones_totales = vacaciones + dias_solicitados\n",
    "\n"
   ]
  },
  {
   "cell_type": "code",
   "execution_count": 77,
   "metadata": {},
   "outputs": [],
   "source": [
    "dias_solicitados = int(input('Ingresa el número de días de vacaciones que solicitas'))\n",
    "\n",
    "if vacaciones_totales <= 30 and vacaciones_totales <= 0:\n",
    "    print('La solicitud ha sido aprobada')\n",
    "    vacaciones += dias_solicitados\n",
    "elif dias_solicitados <= 0:\n",
    "    print('Error. Introduce un número válido')\n",
    "elif vacaciones_totales >= 30:\n",
    "    print('Tu solicitud ha sido denegada')"
   ]
  },
  {
   "cell_type": "code",
   "execution_count": 74,
   "metadata": {},
   "outputs": [
    {
     "data": {
      "text/plain": [
       "0"
      ]
     },
     "execution_count": 74,
     "metadata": {},
     "output_type": "execute_result"
    }
   ],
   "source": [
    "vacaciones"
   ]
  },
  {
   "cell_type": "code",
   "execution_count": 44,
   "metadata": {},
   "outputs": [],
   "source": [
    "empleado1 = Empleados('Marta', 'López', 25, 'auxiliar administrativo', 2023, ('Python', 'Autocad'), 25)"
   ]
  },
  {
   "cell_type": "code",
   "execution_count": 45,
   "metadata": {},
   "outputs": [
    {
     "data": {
      "text/plain": [
       "30"
      ]
     },
     "execution_count": 45,
     "metadata": {},
     "output_type": "execute_result"
    }
   ],
   "source": [
    "empleado1.vacaciones"
   ]
  }
 ],
 "metadata": {
  "kernelspec": {
   "display_name": "base",
   "language": "python",
   "name": "python3"
  },
  "language_info": {
   "codemirror_mode": {
    "name": "ipython",
    "version": 3
   },
   "file_extension": ".py",
   "mimetype": "text/x-python",
   "name": "python",
   "nbconvert_exporter": "python",
   "pygments_lexer": "ipython3",
   "version": "3.9.7"
  }
 },
 "nbformat": 4,
 "nbformat_minor": 2
}
